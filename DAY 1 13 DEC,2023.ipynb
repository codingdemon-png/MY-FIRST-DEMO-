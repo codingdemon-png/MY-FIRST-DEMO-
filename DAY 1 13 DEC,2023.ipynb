{
 "cells": [
  {
   "cell_type": "markdown",
   "id": "cbd837ac",
   "metadata": {},
   "source": [
    "# DAY 1 PYTHON "
   ]
  },
  {
   "cell_type": "code",
   "execution_count": 3,
   "id": "46362d5c",
   "metadata": {},
   "outputs": [
    {
     "name": "stdout",
     "output_type": "stream",
     "text": [
      "welcome to python\n"
     ]
    }
   ],
   "source": [
    "print(\"welcome to python\")"
   ]
  },
  {
   "cell_type": "code",
   "execution_count": 5,
   "id": "b5fb84f0",
   "metadata": {},
   "outputs": [
    {
     "name": "stdout",
     "output_type": "stream",
     "text": [
      "Python is programming language\n"
     ]
    }
   ],
   "source": [
    "print(\"Python is programming language\")"
   ]
  },
  {
   "cell_type": "code",
   "execution_count": 6,
   "id": "98edbb54",
   "metadata": {},
   "outputs": [
    {
     "name": "stdout",
     "output_type": "stream",
     "text": [
      "My name is navneet\n"
     ]
    }
   ],
   "source": [
    "print(\"My name is navneet\")"
   ]
  },
  {
   "cell_type": "code",
   "execution_count": 7,
   "id": "0aef16ac",
   "metadata": {},
   "outputs": [
    {
     "name": "stdout",
     "output_type": "stream",
     "text": [
      "I love to learn python\n"
     ]
    }
   ],
   "source": [
    "print(\"I love to learn python\")"
   ]
  },
  {
   "cell_type": "code",
   "execution_count": 8,
   "id": "09407a22",
   "metadata": {},
   "outputs": [
    {
     "name": "stdout",
     "output_type": "stream",
     "text": [
      "It is OOPS based programming language\n"
     ]
    }
   ],
   "source": [
    "print(\"It is OOPS based programming language\")"
   ]
  },
  {
   "cell_type": "code",
   "execution_count": null,
   "id": "351efe7e",
   "metadata": {},
   "outputs": [],
   "source": [
    "val1= \"20\"\n",
    "val2= \"80\""
   ]
  },
  {
   "cell_type": "code",
   "execution_count": 16,
   "id": "2c95e9ed",
   "metadata": {},
   "outputs": [
    {
     "ename": "NameError",
     "evalue": "name 'val1' is not defined",
     "output_type": "error",
     "traceback": [
      "\u001b[1;31m---------------------------------------------------------------------------\u001b[0m",
      "\u001b[1;31mNameError\u001b[0m                                 Traceback (most recent call last)",
      "Cell \u001b[1;32mIn[16], line 1\u001b[0m\n\u001b[1;32m----> 1\u001b[0m \u001b[38;5;28mprint\u001b[39m(\u001b[43mval1\u001b[49m \u001b[38;5;241m+\u001b[39m val2)\n",
      "\u001b[1;31mNameError\u001b[0m: name 'val1' is not defined"
     ]
    }
   ],
   "source": [
    "print(val1 + val2)"
   ]
  },
  {
   "cell_type": "code",
   "execution_count": null,
   "id": "b9b90502",
   "metadata": {},
   "outputs": [],
   "source": [
    "val1= \"20\"\n",
    "val2= \"80\""
   ]
  },
  {
   "cell_type": "code",
   "execution_count": 18,
   "id": "26854295",
   "metadata": {},
   "outputs": [
    {
     "ename": "NameError",
     "evalue": "name 'val1' is not defined",
     "output_type": "error",
     "traceback": [
      "\u001b[1;31m---------------------------------------------------------------------------\u001b[0m",
      "\u001b[1;31mNameError\u001b[0m                                 Traceback (most recent call last)",
      "Cell \u001b[1;32mIn[18], line 1\u001b[0m\n\u001b[1;32m----> 1\u001b[0m \u001b[38;5;28mprint\u001b[39m(\u001b[43mval1\u001b[49m \u001b[38;5;241m+\u001b[39m val2)\n",
      "\u001b[1;31mNameError\u001b[0m: name 'val1' is not defined"
     ]
    }
   ],
   "source": [
    "print(val1 + val2)"
   ]
  },
  {
   "cell_type": "code",
   "execution_count": 5,
   "id": "b26a825f",
   "metadata": {},
   "outputs": [
    {
     "name": "stdout",
     "output_type": "stream",
     "text": [
      "300\n"
     ]
    }
   ],
   "source": [
    "x=100\n",
    "y=200\n",
    "print(x+y)"
   ]
  },
  {
   "cell_type": "code",
   "execution_count": 3,
   "id": "26e54764",
   "metadata": {},
   "outputs": [
    {
     "data": {
      "text/plain": [
       "300"
      ]
     },
     "execution_count": 3,
     "metadata": {},
     "output_type": "execute_result"
    }
   ],
   "source": [
    "x+y"
   ]
  },
  {
   "cell_type": "code",
   "execution_count": 6,
   "id": "2a3d8cd9",
   "metadata": {},
   "outputs": [],
   "source": [
    "x=324"
   ]
  },
  {
   "cell_type": "code",
   "execution_count": 7,
   "id": "3e0ed7be",
   "metadata": {},
   "outputs": [
    {
     "name": "stdout",
     "output_type": "stream",
     "text": [
      "524\n"
     ]
    }
   ],
   "source": [
    "print(x+y)"
   ]
  },
  {
   "cell_type": "code",
   "execution_count": 8,
   "id": "20daf3e5",
   "metadata": {},
   "outputs": [
    {
     "name": "stdout",
     "output_type": "stream",
     "text": [
      "My Name isNAVNEET SINGHand my age is 24and I live inUttar Pradesh\n"
     ]
    }
   ],
   "source": [
    "name = \"NAVNEET SINGH\"\n",
    "age= \"24\"\n",
    "location= \"Uttar Pradesh\"\n",
    "\n",
    "print(\"My Name is\" + name + \"and my age is \" + age + \"and I live in\" + location)"
   ]
  },
  {
   "cell_type": "code",
   "execution_count": 11,
   "id": "f4a7fda2",
   "metadata": {},
   "outputs": [
    {
     "ename": "TypeError",
     "evalue": "can only concatenate str (not \"int\") to str",
     "output_type": "error",
     "traceback": [
      "\u001b[1;31m---------------------------------------------------------------------------\u001b[0m",
      "\u001b[1;31mTypeError\u001b[0m                                 Traceback (most recent call last)",
      "Cell \u001b[1;32mIn[11], line 4\u001b[0m\n\u001b[0;32m      2\u001b[0m empage \u001b[38;5;241m=\u001b[39m \u001b[38;5;241m24\u001b[39m\n\u001b[0;32m      3\u001b[0m emplocation \u001b[38;5;241m=\u001b[39m\u001b[38;5;124m\"\u001b[39m\u001b[38;5;124mDELHI\u001b[39m\u001b[38;5;124m\"\u001b[39m\n\u001b[1;32m----> 4\u001b[0m \u001b[38;5;28mprint\u001b[39m (\u001b[38;5;124;43m\"\u001b[39;49m\u001b[38;5;124;43mMy name is \u001b[39;49m\u001b[38;5;124;43m\"\u001b[39;49m\u001b[43m \u001b[49m\u001b[38;5;241;43m+\u001b[39;49m\u001b[43m \u001b[49m\u001b[43mempname\u001b[49m\u001b[43m \u001b[49m\u001b[38;5;241;43m+\u001b[39;49m\u001b[43m \u001b[49m\u001b[38;5;124;43m\"\u001b[39;49m\u001b[38;5;124;43m and my age is \u001b[39;49m\u001b[38;5;124;43m\"\u001b[39;49m\u001b[43m \u001b[49m\u001b[38;5;241;43m+\u001b[39;49m\u001b[43m \u001b[49m\u001b[43mempage\u001b[49m \u001b[38;5;241m+\u001b[39m \u001b[38;5;124m\"\u001b[39m\u001b[38;5;124mand my location assigned to me is\u001b[39m\u001b[38;5;124m\"\u001b[39m \u001b[38;5;241m+\u001b[39m emplocation)\n",
      "\u001b[1;31mTypeError\u001b[0m: can only concatenate str (not \"int\") to str"
     ]
    }
   ],
   "source": [
    "empname =\"Navneet Singh\"\n",
    "empage = 24                 ## its showing error because age 24 firstly can be converted to str then only it can run\n",
    "emplocation =\"DELHI\"\n",
    "print (\"My name is \" + empname + \" and my age is \" + empage + \"and my location assigned to me is\" + emplocation)"
   ]
  },
  {
   "cell_type": "code",
   "execution_count": 12,
   "id": "35a6f7d1",
   "metadata": {},
   "outputs": [
    {
     "name": "stdout",
     "output_type": "stream",
     "text": [
      "My name is Navneet Singh and my age is 24and my location assigned to me isDELHI\n"
     ]
    }
   ],
   "source": [
    "print (\"My name is \" + empname + \" and my age is \" + str(empage) + \"and my location assigned to me is\" + emplocation)"
   ]
  },
  {
   "cell_type": "code",
   "execution_count": 18,
   "id": "37a62bc4",
   "metadata": {},
   "outputs": [
    {
     "name": "stdout",
     "output_type": "stream",
     "text": [
      "2080\n"
     ]
    }
   ],
   "source": [
    "val1 = \"20\"\n",
    "val2 = \"80\"                     ##because both the values are in double inverted comma so it can be considered as string \n",
    "print (val1 + val2)"
   ]
  },
  {
   "cell_type": "code",
   "execution_count": 19,
   "id": "17df00bd",
   "metadata": {},
   "outputs": [
    {
     "name": "stdout",
     "output_type": "stream",
     "text": [
      "100\n"
     ]
    }
   ],
   "source": [
    "print (int(val1)+ int(val2)) ##convert it to integer"
   ]
  },
  {
   "cell_type": "code",
   "execution_count": 23,
   "id": "30921045",
   "metadata": {},
   "outputs": [
    {
     "name": "stdout",
     "output_type": "stream",
     "text": [
      "100\n"
     ]
    }
   ],
   "source": [
    "val3=(int(val1)+ int(val2))\n",
    "print(val3)"
   ]
  },
  {
   "cell_type": "code",
   "execution_count": null,
   "id": "39e21166",
   "metadata": {},
   "outputs": [],
   "source": [
    "#DATA TYPE CONVERSION"
   ]
  },
  {
   "cell_type": "code",
   "execution_count": 25,
   "id": "a1d026f8",
   "metadata": {},
   "outputs": [
    {
     "name": "stdout",
     "output_type": "stream",
     "text": [
      "My name is NAvneet\n"
     ]
    }
   ],
   "source": [
    "statement = \"My name is NAvneet\"\n",
    "print(statement)"
   ]
  },
  {
   "cell_type": "code",
   "execution_count": 26,
   "id": "bf48fbfd",
   "metadata": {},
   "outputs": [
    {
     "name": "stdout",
     "output_type": "stream",
     "text": [
      "My name is Navneet\n"
     ]
    }
   ],
   "source": [
    "statement1 = 'My name is Navneet'\n",
    "print(statement1)"
   ]
  },
  {
   "cell_type": "code",
   "execution_count": 28,
   "id": "56d00efc",
   "metadata": {},
   "outputs": [
    {
     "name": "stdout",
     "output_type": "stream",
     "text": [
      "My name is NAVNEET I belong to INDIA\n"
     ]
    }
   ],
   "source": [
    "statement2 = 'My name is NAVNEET I belong to INDIA'\n",
    "print(statement2)"
   ]
  },
  {
   "cell_type": "code",
   "execution_count": null,
   "id": "3c4230ae",
   "metadata": {},
   "outputs": [],
   "source": []
  }
 ],
 "metadata": {
  "kernelspec": {
   "display_name": "Python 3 (ipykernel)",
   "language": "python",
   "name": "python3"
  },
  "language_info": {
   "codemirror_mode": {
    "name": "ipython",
    "version": 3
   },
   "file_extension": ".py",
   "mimetype": "text/x-python",
   "name": "python",
   "nbconvert_exporter": "python",
   "pygments_lexer": "ipython3",
   "version": "3.10.9"
  }
 },
 "nbformat": 4,
 "nbformat_minor": 5
}
